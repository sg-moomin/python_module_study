{
 "cells": [
  {
   "cell_type": "markdown",
   "metadata": {},
   "source": [
    "## gtts?\n",
    "\n",
    "gtts : Google Text-to-Speech\n",
    "- 구글 번역을 이용하여 텍스트 음성 변환 API와 인터페이스하는 Python 라이브러리 및 CLI 도구\n",
    "\n",
    "## 설치 방법\n",
    "pip install gTTS\n",
    "\n",
    "## 설치 확인 명령어\n",
    "pip freeze"
   ]
  },
  {
   "cell_type": "markdown",
   "metadata": {},
   "source": [
    "## Playsound \n",
    "- playsound 파이썬에서 단순하게 오디오 파일을 재생할 수 있게 해주는 라이브러리를 의미 \n",
    "  \n",
    "\n",
    "## plyasound 설치\n",
    "pip install playsound"
   ]
  },
  {
   "cell_type": "code",
   "execution_count": 1,
   "metadata": {},
   "outputs": [],
   "source": [
    "from gtts import gTTS\n",
    "\n",
    "audio_file = \"test.mp3\"\n",
    "language_type = 'ko'\n",
    "text_value  = \"안녕하세요, 저는 세기무민이라고 합니다.\"\n",
    "\n",
    "speech = gTTS(\n",
    "    lang=language_type,\n",
    "    text=text_value,\n",
    "    slow=False\n",
    ")\n",
    "\n",
    "speech.save(audio_file)"
   ]
  },
  {
   "cell_type": "code",
   "execution_count": 4,
   "metadata": {},
   "outputs": [],
   "source": [
    "from gtts import gTTS\n",
    "# 코드 실행 시 소리 출력\n",
    "from playsound import playsound\n",
    "\n",
    "audio_file = \"test.mp3\"\n",
    "language_type = 'ko'\n",
    "audio_read_file_name = 'sample.txt'\n",
    "\n",
    "# 파일 읽기\n",
    "with open(audio_read_file_name, 'r') as file:\n",
    "    text_value = file.read()\n",
    "\n",
    "speech = gTTS(\n",
    "    lang=language_type,\n",
    "    text=text_value,\n",
    "    slow=False\n",
    ")\n",
    "\n",
    "speech.save(audio_file)\n",
    "playsound(audio_file)"
   ]
  }
 ],
 "metadata": {
  "kernelspec": {
   "display_name": "newenv",
   "language": "python",
   "name": "python3"
  },
  "language_info": {
   "codemirror_mode": {
    "name": "ipython",
    "version": 3
   },
   "file_extension": ".py",
   "mimetype": "text/x-python",
   "name": "python",
   "nbconvert_exporter": "python",
   "pygments_lexer": "ipython3",
   "version": "3.8.18"
  }
 },
 "nbformat": 4,
 "nbformat_minor": 2
}
