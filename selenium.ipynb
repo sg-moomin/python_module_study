{
 "cells": [
  {
   "cell_type": "markdown",
   "metadata": {},
   "source": [
    "# selenium 설치 필요 \n",
    "pip install selenium\n",
    "\n",
    "# mac > chromedriver 설치 \n",
    "brew install --cask chromedriver \n",
    "\n",
    "# 크롬과 크롬드라이버 버전을 맞춰야 함 \n",
    "pip3 install webdriver_manager \n",
    "\n"
   ]
  },
  {
   "cell_type": "code",
   "execution_count": 2,
   "metadata": {},
   "outputs": [],
   "source": [
    "from selenium import webdriver\n",
    "from selenium.webdriver.common.by import By\n",
    "from selenium.webdriver.chrome.service import Service\n",
    "from webdriver_manager.chrome import ChromeDriverManager\n",
    "import time\n",
    "\n",
    "# 크롬 드라이버 실행 \n",
    "driver = webdriver.Chrome(service= Service(ChromeDriverManager().install()))\n",
    "\n",
    "# 티스토리 로그인 url 접근 \n",
    "tistory_url = \"https://www.tistory.com/auth/login\"\n",
    "driver.get(tistory_url)\n",
    "\n",
    "# 카카오 계정 로그인 버튼 클릭\n",
    "kakao_login_btn_element = \"btn_login.link_kakao_id\"\n",
    "driver.find_element(By.CLASS_NAME, kakao_login_btn_element).click()\n",
    "\n",
    "# 카카오 로그인 처리 \n",
    "kakao_login_id_element = \"loginId\"\n",
    "kakao_login_password_element = \"password\"\n",
    "kakao_login_success_submit = \"btn_g.highlight.submit\"\n",
    "\n",
    "kakao_email = \"[tistory id]\"\n",
    "kakao_password = \"[tistory pw]\"\n",
    "\n",
    "\n",
    "driver.find_element(By.NAME, kakao_login_id_element).send_keys(kakao_email)\n",
    "driver.find_element(By.NAME, kakao_login_password_element).send_keys(kakao_password)\n",
    "driver.find_element(By.CLASS_NAME, kakao_login_success_submit).click()\n",
    "\n",
    "\n",
    "\n",
    "# url = \"https://sg-moomin.github.io/\"\n",
    "# driver.get(url)\n",
    "# time.sleep(5)"
   ]
  }
 ],
 "metadata": {
  "kernelspec": {
   "display_name": "newenv",
   "language": "python",
   "name": "python3"
  },
  "language_info": {
   "codemirror_mode": {
    "name": "ipython",
    "version": 3
   },
   "file_extension": ".py",
   "mimetype": "text/x-python",
   "name": "python",
   "nbconvert_exporter": "python",
   "pygments_lexer": "ipython3",
   "version": "3.8.18"
  }
 },
 "nbformat": 4,
 "nbformat_minor": 2
}
